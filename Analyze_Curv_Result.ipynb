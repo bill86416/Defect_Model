{
 "cells": [
  {
   "cell_type": "code",
   "execution_count": 48,
   "id": "d6aad298-11ae-437d-896f-b76900f43216",
   "metadata": {},
   "outputs": [],
   "source": [
    "import numpy as np"
   ]
  },
  {
   "cell_type": "code",
   "execution_count": 157,
   "id": "49d535a6-774f-4f8a-a87e-3595b0df5774",
   "metadata": {},
   "outputs": [],
   "source": [
    "# Load the Curvature\n",
    "curvature = np.load('./noise_perc_models/noise_0.02_perc_0.15_cifar_net_epoch_300.pth_train_curvature.npy',allow_pickle='TRUE').item()   \n",
    "sorted_curvature = sorted(curvature.items(), key=lambda kv: kv[1], reverse=False)"
   ]
  },
  {
   "cell_type": "code",
   "execution_count": 158,
   "id": "adf158d2-0486-4b02-b4c0-9eaab4958b87",
   "metadata": {},
   "outputs": [
    {
     "name": "stdout",
     "output_type": "stream",
     "text": [
      "[-20. -19. -18. -17. -16. -15. -14. -13. -12. -11. -10.  -9.  -8.  -7.\n",
      "  -6.  -5.  -4.  -3.  -2.  -1.   0.]\n"
     ]
    }
   ],
   "source": [
    "minlog, maxlog, point = -20, 0, 21\n",
    "bins = np.linspace(minlog, maxlog, point)\n",
    "# print(bins)"
   ]
  },
  {
   "cell_type": "code",
   "execution_count": 160,
   "id": "ecc41a98-6773-499d-a6ff-25f7a1e21d42",
   "metadata": {},
   "outputs": [
    {
     "name": "stdout",
     "output_type": "stream",
     "text": [
      "[0, 0, 0, 3, 496, 13619, 21024, 9385, 3751, 1319, 332, 51, 19, 1, 0, 0, 0, 0, 0, 0]\n"
     ]
    }
   ],
   "source": [
    "# Count the amount of samples in each curvature range\n",
    "i = 0\n",
    "length = [0] * 20\n",
    "for bins_i in range(20):\n",
    "    count = 0\n",
    "    while i < (len(sorted_curvature)):\n",
    "        if bins[bins_i] <= sorted_curvature[i][1] < bins[bins_i+1]:\n",
    "            count += 1\n",
    "            i += 1\n",
    "        else: break\n",
    "        length[bins_i] = count"
   ]
  },
  {
   "cell_type": "code",
   "execution_count": 161,
   "id": "2ddc553e-b9d7-4e40-8235-118d20af76c9",
   "metadata": {},
   "outputs": [
    {
     "name": "stdout",
     "output_type": "stream",
     "text": [
      "[0, 0, 0, 4.333333333333333, 0.6633064516129032, 1.5066451281298185, 4.052035768645358, 7.521257325519446, 10.193814982671288, 12.00606520090978, 12.677710843373495, 12.294117647058824, 12.736842105263158, 16.0, 0, 0, 0, 0, 0, 0]\n"
     ]
    }
   ],
   "source": [
    "# Load the Average Misclassify Amount in each curvature range\n",
    "zero = './noise_perc_models/noise_0.02_perc_0.15_cifar_net_epoch_300.pth_All_Defect_noise_0.2.txt'\n",
    "zero_arr = eval(open(zero, 'r').read())\n",
    "print(zero_arr)"
   ]
  },
  {
   "cell_type": "code",
   "execution_count": 162,
   "id": "b65e7d7e-a99d-4b7f-b690-0485c8072aab",
   "metadata": {},
   "outputs": [],
   "source": [
    "length_array = np.array(length)\n",
    "zero_arr_array = np.array(zero_arr)"
   ]
  },
  {
   "cell_type": "code",
   "execution_count": 163,
   "id": "ae9d9854-fa98-41de-a50e-0ffca301fb2f",
   "metadata": {},
   "outputs": [
    {
     "name": "stdout",
     "output_type": "stream",
     "text": [
      "4.7161\n"
     ]
    }
   ],
   "source": [
    "# Average Misclassify Amount for Whole dataset\n",
    "print(np.sum(length_array * zero_arr_array) / len(sorted_curvature))"
   ]
  }
 ],
 "metadata": {
  "kernelspec": {
   "display_name": "Python 3 (ipykernel)",
   "language": "python",
   "name": "python3"
  },
  "language_info": {
   "codemirror_mode": {
    "name": "ipython",
    "version": 3
   },
   "file_extension": ".py",
   "mimetype": "text/x-python",
   "name": "python",
   "nbconvert_exporter": "python",
   "pygments_lexer": "ipython3",
   "version": "3.12.4"
  }
 },
 "nbformat": 4,
 "nbformat_minor": 5
}
